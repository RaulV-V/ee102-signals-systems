{
 "cells": [
  {
   "cell_type": "code",
   "execution_count": 1,
   "id": "7ffddb9f",
   "metadata": {},
   "outputs": [
    {
     "data": {
      "image/png": "[encoded data removed]",
      "text/plain": [
       "<Figure size 1000x350 with 3 Axes>"
      ]
     },
     "metadata": {},
     "output_type": "display_data"
    }
   ],
   "source": [
    "import numpy as np\n",
    "import matplotlib.pyplot as plt\n",
    "\n",
    "# define your image pixels here: \n",
    "x = np.array([50,100,240,255,200,\n",
    "              120,80,80,90,150,220,240],\n",
    "             dtype=float)\n",
    "\n",
    "hA = (1/3)*np.array([1,1,1]) # 3-tap box blur\n",
    "hB = np.array([1,-1]) # first difference (edge)\n",
    "\n",
    "def conv_loop(x, h):\n",
    "    ### Write your code for convolution using for loops here\n",
    "    y = x # this is WRONG (placeholder)\n",
    "    return y\n",
    "\n",
    "yA = conv_loop(x, hA)\n",
    "yB = conv_loop(x, hB)\n",
    "\n",
    "# How do you blur twice? Repeated convolution!\n",
    "## Write your code here:\n",
    "\n",
    "\n",
    "# The code below is useful for plotting color strips of the signals\n",
    "# ------------------------\n",
    "# Helper: make color strip from a 1-D signal\n",
    "# ------------------------\n",
    "def strip_from_signal(sig, height=24, vmin=None, vmax=None, cmap='gray'):\n",
    "    \"\"\"\n",
    "    Returns an array (HxW) you can imshow() as a color strip.\n",
    "    By default uses grayscale; change cmap for 'viridis', etc.\n",
    "    vmin/vmax allow common scaling. If None, scale per-strip.\n",
    "    \"\"\"\n",
    "    sig = np.asarray(sig, dtype=float)\n",
    "    if vmin is None: \n",
    "        vmin = sig.min()\n",
    "    \n",
    "    if vmax is None: \n",
    "        vmax = sig.max()\n",
    "        if sig.max() != sig.min():\n",
    "            vmax = sig.max()\n",
    "        else:\n",
    "            vmax = sig.min()+1\n",
    "    # normalize to [0,1] for colormap mapping (imshow handles this)\n",
    "    norm = (sig - vmin) / (vmax - vmin)\n",
    "    img = np.tile(norm, (height, 1))\n",
    "    return img\n",
    "\n",
    "# Plot your outputs with x-axis (pixel index)\n",
    "\n",
    "# Plot image strips\n",
    "strips = [\n",
    "    ('x[n] (original)', x),\n",
    "    ('x*hA', yA),\n",
    "    ('x*hB', yB),\n",
    "]\n",
    "\n",
    "# Choose a colormap:\n",
    "cmap = 'gray'          \n",
    "\n",
    "# scale each strip independently to show local contrast\n",
    "independent_scale = True\n",
    "\n",
    "plt.figure(figsize=(10, 2 + 0.5*len(strips)))\n",
    "for i, (title, sig) in enumerate(strips, 1):\n",
    "    if independent_scale:\n",
    "        img = strip_from_signal(sig, height=24, vmin=None, vmax=None, cmap=cmap)\n",
    "        vmin, vmax = None, None\n",
    "    else:\n",
    "        # global scaling to original x range\n",
    "        vmin, vmax = x.min(), x.max()\n",
    "        img = strip_from_signal(sig, height=24, vmin=vmin, vmax=vmax, cmap=cmap)\n",
    "    ax = plt.subplot(len(strips), 1, i)\n",
    "    im = ax.imshow(img, aspect='auto', cmap=cmap, vmin=vmin, vmax=vmax,\n",
    "                   extent=[0, len(sig)-1, 0, 1])\n",
    "    ax.set_yticks([]); ax.set_ylabel(title, rotation=0, labelpad=35, va='center')\n",
    "    ax.set_xticks(np.arange(0, len(sig), 1)); ax.set_xlim(0, len(sig)-1)\n",
    "    if i < len(strips): ax.set_xticklabels([])\n",
    "plt.xlabel('pixel index n')\n",
    "plt.tight_layout()\n",
    "plt.show()\n"
   ]
  }
 ],
 "metadata": {
  "kernelspec": {
   "display_name": "base",
   "language": "python",
   "name": "python3"
  },
  "language_info": {
   "codemirror_mode": {
    "name": "ipython",
    "version": 3
   },
   "file_extension": ".py",
   "mimetype": "text/x-python",
   "name": "python",
   "nbconvert_exporter": "python",
   "pygments_lexer": "ipython3",
   "version": "3.11.5"
  }
 },
 "nbformat": 4,
 "nbformat_minor": 5
}
